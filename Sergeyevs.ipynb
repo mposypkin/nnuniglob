{
 "cells": [
  {
   "cell_type": "code",
   "execution_count": 29,
   "metadata": {},
   "outputs": [],
   "source": [
    "from sympy import *\n",
    "import matplotlib.pyplot as plt\n",
    "import numpy as np\n",
    "import interval as ival\n",
    "import math "
   ]
  },
  {
   "cell_type": "code",
   "execution_count": 30,
   "metadata": {},
   "outputs": [],
   "source": [
    "# a - left interval end\n",
    "# fa - function value at the left end f(a)\n",
    "# fb - function value at the right end f(b)\n",
    "# ua - derivative value at the left end f'(d)\n",
    "# ua - derivative value at the right end f'(d)\n",
    "# [alp,bet] - interval extension of the derivative on [a,b]\n",
    "# s - the point of the left convexity change\n",
    "# t - the point of the right convexity change\n",
    "\n",
    "a,b,fa,fb,ua,ub,alp,bet,s = symbols('a b fa fb ua ub alp bet s')"
   ]
  },
  {
   "cell_type": "code",
   "execution_count": 31,
   "metadata": {},
   "outputs": [
    {
     "name": "stdout",
     "output_type": "stream",
     "text": [
      "b - s - tms\n"
     ]
    }
   ],
   "source": [
    "tmsv = (ub - ua + alp * (a - b))/(bet - alp)\n",
    "tms = symbols('tms')\n",
    "t = s + tms\n",
    "print(b - t)"
   ]
  },
  {
   "cell_type": "code",
   "execution_count": 32,
   "metadata": {},
   "outputs": [],
   "source": [
    "us = ua + alp * (s - a)\n",
    "ut = us + bet * tms\n",
    "I1 = 0.5 * (s - a) * (us + ua)\n",
    "I2 = 0.5 * tms * (ut + us)\n",
    "I3 = 0.5 * (b - t) * (ub + ut)\n",
    "I = I1 + I2 + I3"
   ]
  },
  {
   "cell_type": "code",
   "execution_count": 33,
   "metadata": {},
   "outputs": [
    {
     "name": "stdout",
     "output_type": "stream",
     "text": [
      "(0.5*a*alp*(alp*(a - b) - ua + ub) - 0.5*alp*s*(alp*(a - b) - ua + ub) - 0.5*b*bet*(alp*(a - b) - ua + ub) + 0.5*bet*s*(alp*(a - b) - ua + ub) - 0.5*ua*(alp*(a - b) - ua + ub) + 0.5*ub*(alp*(a - b) - ua + ub) + (alp - bet)*(0.5*a**2*alp - 0.5*a*alp*b - 0.5*a*alp*s - 1.0*a*ua + 0.5*alp*b*s + 0.5*b*ua + 0.5*b*ub + fa - fb + 0.5*s*ua - 0.5*s*ub))/(alp - bet)\n"
     ]
    }
   ],
   "source": [
    "EI = expand(I)\n",
    "# print(EI)\n",
    "EF = EI.subs(tms,tmsv)\n",
    "lineq = EF - (fb - fa)\n",
    "print(simplify(lineq))"
   ]
  },
  {
   "cell_type": "code",
   "execution_count": 34,
   "metadata": {},
   "outputs": [],
   "source": [
    "sols = solve(lineq, s)\n",
    "rs = sols[0]\n",
    "rss = simplify(rs)\n",
    "rt = rs + tmsv\n",
    "rts = simplify(rt)"
   ]
  },
  {
   "cell_type": "code",
   "execution_count": 35,
   "metadata": {},
   "outputs": [],
   "source": [
    "def quad_min(x, c, fc, uc, l):\n",
    "    return fc + uc * (x - c) + 0.5 * l * (x - c)**2"
   ]
  },
  {
   "cell_type": "code",
   "execution_count": 36,
   "metadata": {},
   "outputs": [],
   "source": [
    "def serg_min(x,ss):\n",
    "    a = ss['a']\n",
    "    b = ss['b']\n",
    "    fa = ss['fa']\n",
    "    fb = ss['fb']\n",
    "    ua = ss['ua']\n",
    "    ub = ss['ub']\n",
    "    alp = ss['alp']\n",
    "    bet = ss['bet']\n",
    "    s = ss['s']\n",
    "    t = ss['t']\n",
    "    fs = ss['fs']\n",
    "    us = ss['us']\n",
    "    ft = ss['ft']\n",
    "    ut = ss['ut']\n",
    "#     print(\"ub = \", ut + (b - t) * alp, \"ub = \", ub)\n",
    "    if x <= s:\n",
    "        v = quad_min(x, a, fa, ua, alp)\n",
    "    elif x <= t:\n",
    "        v = quad_min(x, s, fs, us, bet)\n",
    "    else:\n",
    "        v = quad_min(x, t, ft, ut, alp)\n",
    "    return v\n",
    "            "
   ]
  },
  {
   "cell_type": "code",
   "execution_count": 37,
   "metadata": {},
   "outputs": [],
   "source": [
    "def vizual(flist, a, b):\n",
    "    colors = ['r-', 'b-', 'g-']\n",
    "    step = (b-a)/100.\n",
    "    ta = np.arange(a, b + step, step)\n",
    "    ln = len(ta)\n",
    "    fta = np.arange(ln).astype(float)\n",
    "    j = 0\n",
    "    for f in flist:\n",
    "        for i in range(ln):\n",
    "            fta[i] = f(ta[i])\n",
    "        plt.plot(ta, fta, colors[j])\n",
    "        j = j + 1\n",
    "    plt.show()"
   ]
  },
  {
   "cell_type": "code",
   "execution_count": 38,
   "metadata": {},
   "outputs": [
    {
     "name": "stdout",
     "output_type": "stream",
     "text": [
      "4*x**3 - 30*x**2 + 70*x - 50\n"
     ]
    }
   ],
   "source": [
    "x = symbols('x')\n",
    "# ef = cos(x) - x*x\n",
    "ef = x**4 - 10 * x**3 + 35 * x**2 - 50 * x + 24\n",
    "edf = diff(ef)\n",
    "print(edf)\n",
    "f = lambdify(x, ef)\n",
    "df = lambdify(x, edf)\n",
    "idf = lambdify(x, edf, {\"cos\" : ival.cos, \"sin\" : ival.sin, \"exp\" : ival.exp})\n",
    "# def f(x):\n",
    "#     return cos(x)\n",
    "# def df(x):\n",
    "#     return -sin(x)"
   ]
  },
  {
   "cell_type": "code",
   "execution_count": 43,
   "metadata": {},
   "outputs": [],
   "source": [
    "def make_data(lip = False):\n",
    "    ss = {}\n",
    "    ss['a'] = -1\n",
    "    ss['b'] = 2\n",
    "    ss['fa'] = f(ss['a'])\n",
    "    ss['fb'] = f(ss['b'])\n",
    "    ss['ua'] = df(ss['a'])\n",
    "    ss['ub'] = df(ss['b'])\n",
    "    i_x = ival.Interval([ss['a'],ss['b']])\n",
    "    i_d = idf(i_x)\n",
    "    if lip:\n",
    "        ss['alp'] = -max(abs(i_d.x[0]), abs(i_d.x[1]))\n",
    "        ss['bet'] = max(abs(i_d.x[0]), abs(i_d.x[1]))\n",
    "    else:\n",
    "        ss['alp'] = i_d.x[0]\n",
    "        ss['bet'] = i_d.x[1]    \n",
    "    subs = [(a,ss['a']), (b,ss['b']), (fa, ss['fa']), (fb, ss['fb']), (ua,ss['ua']), (ub,ss['ub']), (alp,ss['alp']), (bet, ss['bet'])]\n",
    "    vs = rs.subs(subs)\n",
    "    ss['s'] = vs\n",
    "    vt = rt.subs(subs)\n",
    "    ss['t'] = vt\n",
    "    fs = quad_min(ss['s'], ss['a'], ss['fa'], ss['ua'], ss['alp'] )\n",
    "    us = ss['ua'] + (ss['s'] - ss['a']) * ss['alp']\n",
    "    ss['fs'] = fs\n",
    "    ss['us'] = us\n",
    "    ft = quad_min(ss['t'], ss['s'], ss['fs'], ss['us'], ss['bet'])\n",
    "    ut = ss['us'] + (ss['t'] - ss['s']) * ss['bet']\n",
    "    ss['ft'] = ft\n",
    "    ss['ut'] = ut\n",
    " \n",
    "    return ss\n"
   ]
  },
  {
   "cell_type": "code",
   "execution_count": 44,
   "metadata": {},
   "outputs": [
    {
     "name": "stdout",
     "output_type": "stream",
     "text": [
      "{'a': -1, 'b': 2, 'fa': 120, 'fb': 0, 'ua': -154, 'ub': 2, 'alp': -244, 'bet': 122, 's': -0.834736375719982, 't': 1.59149313247674, 'fs': 91.2173298686369, 'us': -194.324324324324, 'ft': -21.1761127543139, 'ut': 101.675675675676}\n"
     ]
    }
   ],
   "source": [
    "ss_glob = make_data()\n",
    "print(ss_glob)\n",
    "ss_glob_lip = make_data(True)\n"
   ]
  },
  {
   "cell_type": "code",
   "execution_count": 45,
   "metadata": {},
   "outputs": [],
   "source": [
    "def fmin(x):\n",
    "    return serg_min(x,ss_glob)\n",
    "   \n",
    "def fmin_lip(x):\n",
    "    return serg_min(x,ss_glob_lip)\n",
    "    \n",
    "    \n",
    "    "
   ]
  },
  {
   "cell_type": "code",
   "execution_count": 46,
   "metadata": {},
   "outputs": [
    {
     "data": {
      "image/png": "[encoded data removed]",
      "text/plain": [
       "<Figure size 432x288 with 1 Axes>"
      ]
     },
     "metadata": {
      "needs_background": "light"
     },
     "output_type": "display_data"
    }
   ],
   "source": [
    "vizual([f,fmin, fmin_lip], ss_glob['a'], ss_glob['b'])"
   ]
  },
  {
   "cell_type": "code",
   "execution_count": null,
   "metadata": {},
   "outputs": [],
   "source": []
  },
  {
   "cell_type": "code",
   "execution_count": null,
   "metadata": {},
   "outputs": [],
   "source": []
  },
  {
   "cell_type": "code",
   "execution_count": null,
   "metadata": {},
   "outputs": [],
   "source": []
  }
 ],
 "metadata": {
  "kernelspec": {
   "display_name": "Python 3",
   "language": "python",
   "name": "python3"
  },
  "language_info": {
   "codemirror_mode": {
    "name": "ipython",
    "version": 3
   },
   "file_extension": ".py",
   "mimetype": "text/x-python",
   "name": "python",
   "nbconvert_exporter": "python",
   "pygments_lexer": "ipython3",
   "version": "3.6.9"
  }
 },
 "nbformat": 4,
 "nbformat_minor": 2
}
