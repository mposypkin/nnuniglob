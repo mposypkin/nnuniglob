{
 "cells": [
  {
   "cell_type": "markdown",
   "metadata": {},
   "source": [
    "Bnb interval method"
   ]
  },
  {
   "cell_type": "code",
   "execution_count": 1,
   "metadata": {},
   "outputs": [],
   "source": [
    "from sympy import *\n",
    "import interval as ival\n",
    "import intconv as iconv\n",
    "import matplotlib.pyplot as plt\n",
    "import numpy as np\n",
    "import bnbcore as bc\n",
    "import math\n",
    "from problems import *"
   ]
  },
  {
   "cell_type": "code",
   "execution_count": 2,
   "metadata": {},
   "outputs": [],
   "source": [
    "ival_dict = {\"cos\" : ival.cos, \"sin\" : ival.sin, \"exp\" : ival.exp, \"log\" : ival.log}"
   ]
  },
  {
   "cell_type": "code",
   "execution_count": 3,
   "metadata": {},
   "outputs": [
    {
     "name": "stdout",
     "output_type": "stream",
     "text": [
      "{'f': Abs(0.25*x - 0.25) + Abs(sin(0.785398163397448*x + 2.35619449019234)) + 1, 'ab': [-10, 10], 'eps': 0.001, 'f*': 1}\n"
     ]
    }
   ],
   "source": [
    "problem = problems['absxsin']\n",
    "print(problem)"
   ]
  },
  {
   "cell_type": "code",
   "execution_count": 4,
   "metadata": {},
   "outputs": [
    {
     "name": "stdout",
     "output_type": "stream",
     "text": [
      "[-10, 10]\n",
      "[1, 4.75]\n",
      "1.957106781186551\n"
     ]
    }
   ],
   "source": [
    "main_int = ival.Interval(problem['ab'])\n",
    "f = lambdify(x, problem['f'])\n",
    "fi = lambdify(x, problem['f'], ival_dict)\n",
    "print(main_int)\n",
    "print(fi(main_int))\n",
    "print(f(0))\n"
   ]
  },
  {
   "cell_type": "code",
   "execution_count": 5,
   "metadata": {},
   "outputs": [],
   "source": [
    "def split_ival(s):\n",
    "    a = s.x[0]\n",
    "    b = s.x[1]\n",
    "    c = s.mid()\n",
    "    sl = ival.Interval([a, c])\n",
    "    sr = ival.Interval([c, b])\n",
    "    return [sl, sr]"
   ]
  },
  {
   "cell_type": "code",
   "execution_count": 6,
   "metadata": {},
   "outputs": [],
   "source": [
    "def vizual(flist, a, b):\n",
    "    colors = ['r-', 'b-', 'g-']\n",
    "    step = (b-a)/100.\n",
    "    ta = np.arange(a, b + step, step)\n",
    "    ln = len(ta)\n",
    "    fta = np.arange(ln).astype(float)\n",
    "    j = 0\n",
    "    for f in flist:\n",
    "        for i in range(ln):\n",
    "            fta[i] = f(ta[i])\n",
    "        plt.plot(ta, fta, colors[j])\n",
    "        j = j + 1\n",
    "    plt.show()"
   ]
  },
  {
   "cell_type": "code",
   "execution_count": 7,
   "metadata": {},
   "outputs": [
    {
     "data": {
      "image/png": "[encoded data removed]",
      "text/plain": [
       "<Figure size 432x288 with 1 Axes>"
      ]
     },
     "metadata": {
      "needs_background": "light"
     },
     "output_type": "display_data"
    }
   ],
   "source": [
    "vizual([f], problem['ab'][0], problem['ab'][1])"
   ]
  },
  {
   "cell_type": "code",
   "execution_count": 10,
   "metadata": {},
   "outputs": [],
   "source": [
    "def solve(key):\n",
    "    problem = problems[key]\n",
    "    main_int = ival.Interval(problem['ab'])\n",
    "    f = lambdify(x, problem['f'])\n",
    "    fi = lambdify(x, problem['f'], ival_dict)\n",
    "    return bc.bnb(problem, [main_int], 1e5, f, fi, split_ival)"
   ]
  },
  {
   "cell_type": "code",
   "execution_count": 11,
   "metadata": {},
   "outputs": [
    {
     "name": "stdout",
     "output_type": "stream",
     "text": [
      "35\n",
      "\n",
      "\n",
      "72953\n",
      "\n",
      "\n",
      "63\n",
      "\n",
      "\n",
      "159\n",
      "\n",
      "\n",
      "183\n",
      "\n",
      "\n",
      "11\n",
      "\n",
      "\n",
      "273\n",
      "\n",
      "\n",
      "65\n",
      "\n",
      "\n",
      "189\n",
      "\n",
      "\n",
      "857\n",
      "\n",
      "\n",
      "35\n",
      "\n",
      "\n",
      "125\n",
      "\n",
      "\n",
      "51\n",
      "\n",
      "\n"
     ]
    }
   ],
   "source": [
    "i = 1\n",
    "for k in problems.keys():\n",
    "#     print(problems[k])\n",
    "    print(solve(k)['steps'])\n",
    "    print(\"\\n\")\n",
    "    i = i + 1"
   ]
  },
  {
   "cell_type": "code",
   "execution_count": null,
   "metadata": {},
   "outputs": [],
   "source": []
  }
 ],
 "metadata": {
  "kernelspec": {
   "display_name": "Python 3",
   "language": "python",
   "name": "python3"
  },
  "language_info": {
   "codemirror_mode": {
    "name": "ipython",
    "version": 3
   },
   "file_extension": ".py",
   "mimetype": "text/x-python",
   "name": "python",
   "nbconvert_exporter": "python",
   "pygments_lexer": "ipython3",
   "version": "3.6.9"
  }
 },
 "nbformat": 4,
 "nbformat_minor": 4
}
