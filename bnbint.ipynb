{
 "cells": [
  {
   "cell_type": "markdown",
   "metadata": {},
   "source": [
    "Bnb interval method"
   ]
  },
  {
   "cell_type": "code",
   "execution_count": 1,
   "metadata": {},
   "outputs": [],
   "source": [
    "from sympy import *\n",
    "import interval as ival\n",
    "import intconv as iconv\n",
    "import matplotlib.pyplot as plt\n",
    "import numpy as np\n",
    "import math"
   ]
  },
  {
   "cell_type": "code",
   "execution_count": 2,
   "metadata": {},
   "outputs": [],
   "source": [
    "ival_dict = {\"cos\" : ival.cos, \"sin\" : ival.sin, \"exp\" : ival.exp, \"log\" : ival.log}"
   ]
  },
  {
   "cell_type": "code",
   "execution_count": 21,
   "metadata": {},
   "outputs": [
    {
     "name": "stdout",
     "output_type": "stream",
     "text": [
      "{'f': x + sin(5*x), 'ab': [0.2, 7]}\n"
     ]
    }
   ],
   "source": [
    "x = symbols('x')\n",
    "# problem = {'f' : x**6 - 15 * x**4 + 27 * x**2 + 250, 'a' : -4, 'b' : 4}\n",
    "# problem = {'f' : log(x) - 0.84 * x + 3, 'ab' : [2.7, 7.5]}\n",
    "problem = {'f' : x + sin(5 * x), 'ab' : [.2, 7]}\n",
    "print(problem)"
   ]
  },
  {
   "cell_type": "code",
   "execution_count": 22,
   "metadata": {},
   "outputs": [
    {
     "name": "stdout",
     "output_type": "stream",
     "text": [
      "[0.2, 7]\n",
      "[-0.8, 8]\n"
     ]
    }
   ],
   "source": [
    "main_int = ival.Interval(problem['ab'])\n",
    "f = lambdify(x, problem['f'])\n",
    "fi = lambdify(x, problem['f'], ival_dict)\n",
    "print(main_int)\n",
    "print(fi(main_int))\n"
   ]
  },
  {
   "cell_type": "code",
   "execution_count": 23,
   "metadata": {},
   "outputs": [],
   "source": [
    "def split(s):\n",
    "    a = s.x[0]\n",
    "    b = s.x[1]\n",
    "    c = s.mid()\n",
    "    sl = ival.Interval([a, c])\n",
    "    sr = ival.Interval([c, b])\n",
    "    return [sl, sr]"
   ]
  },
  {
   "cell_type": "code",
   "execution_count": 24,
   "metadata": {},
   "outputs": [
    {
     "name": "stdout",
     "output_type": "stream",
     "text": [
      "[0.2, 7] None\n",
      "[-0.8, 8]\n",
      "0\n",
      "[3.6, 7] 2.8490127532283243\n",
      "[2.6, 8]\n",
      "1\n",
      "[5.3, 7] 2.8490127532283243\n",
      "[4.3, 8]\n",
      "2\n",
      "[3.6, 5.3] 2.8490127532283243\n",
      "[2.6, 6.3]\n",
      "1\n",
      "[4.45, 5.3] 2.8490127532283243\n",
      "[3.45, 6.279357643103917]\n",
      "2\n",
      "[3.6, 4.45] 2.8490127532283243\n",
      "[2.8490127532283243, 5.45]\n",
      "1\n",
      "[0.2, 3.6] 2.8490127532283243\n",
      "[-0.8, 4.6]\n",
      "0\n",
      "[1.9000000000000001, 3.6] 1.8248488795381907\n",
      "[0.9000000000000001, 4.6]\n",
      "1\n",
      "[2.75, 3.6] 1.8248488795381907\n",
      "[1.75, 4.6]\n",
      "2\n",
      "[1.9000000000000001, 2.75] 1.8248488795381907\n",
      "[0.9000000000000001, 3.6759824428086274]\n",
      "1\n",
      "[2.325, 2.75] 1.5166342864446412\n",
      "[1.5166342864446412, 3.6759824428086274]\n",
      "2\n",
      "[1.9000000000000001, 2.325] 1.5166342864446412\n",
      "[0.9000000000000001, 2.249848879538191]\n",
      "1\n",
      "[2.1125000000000003, 2.325] 1.2048201244553516\n",
      "[1.1125000000000003, 1.5166342864446412]\n",
      "2\n",
      "[1.9000000000000001, 2.1125000000000003] 1.2048201244553516\n",
      "[0.9923201244553513, 2.037348879538191]\n",
      "1\n",
      "[2.00625, 2.1125000000000003] 1.2048201244553516\n",
      "[1.0985701244553514, 1.542527785048399]\n",
      "2\n",
      "[2.059375, 2.1125000000000003] 1.2048201244553516\n",
      "[1.1516951244553515, 1.3468205179948098]\n",
      "3\n",
      "[2.00625, 2.059375] 1.2048201244553516\n",
      "[1.2405705179948097, 1.4894027850483988]\n",
      "2\n",
      "[1.9000000000000001, 2.00625] 1.2048201244553516\n",
      "[1.330027785048399, 1.9310988795381907]\n",
      "1\n",
      "[0.2, 1.9000000000000001] 1.2048201244553516\n",
      "[-0.8, 2.9000000000000004]\n",
      "0\n",
      "[1.05, 1.9000000000000001] 0.19106550657340804\n",
      "[0.19106550657340804, 2.9000000000000004]\n",
      "1\n",
      "[0.2, 1.05] 0.19106550657340804\n",
      "[-0.8, 2.05]\n",
      "0\n",
      "[0.625, 1.05] 0.19106550657340804\n",
      "[-0.375, 1.066591892229348]\n",
      "1\n",
      "[0.8375, 1.05] -0.0278795807650819\n",
      "[-0.16249999999999998, 0.19106550657340804]\n",
      "2\n",
      "[0.9437500000000001, 1.05] -0.05622976878294417\n",
      "[-0.05622976878294417, 0.19106550657340804]\n",
      "3\n",
      "[0.8375, 0.9437500000000001] -0.05622976878294417\n",
      "[-0.16249999999999998, 0.07837041923491816]\n",
      "2\n",
      "[0.625, 0.8375] -0.07595393268760398\n",
      "[-0.24037958076508192, 0.8540918922293479]\n",
      "1\n",
      "[0.73125, 0.8375] -0.07595393268760398\n",
      "[-0.13412958076508197, 0.3452633887981454]\n",
      "2\n",
      "[0.625, 0.73125] -0.07595393268760398\n",
      "[0.13276338879814537, 0.7478418922293478]\n",
      "1\n",
      "[0.2, 0.625] -0.07595393268760398\n",
      "[0.2165918922293479, 1.625]\n",
      "0\n"
     ]
    }
   ],
   "source": [
    "subs = [main_int]\n",
    "eps = 1e-1\n",
    "fr = None\n",
    "xr = None\n",
    "i = 0\n",
    "maxi = 1e4\n",
    "while len(subs) > 0:\n",
    "    s = subs.pop()\n",
    "    print(s, fr)\n",
    "    c = s.mid()\n",
    "    fc = f(c)\n",
    "    if xr == None:\n",
    "        xr = c\n",
    "        fr = fc\n",
    "    elif fc < fr:\n",
    "        xr = c\n",
    "        fr = fc\n",
    "    frange = fi(s)\n",
    "    print(frange)\n",
    "    print(len(subs))\n",
    "    if frange.x[0] < fr - eps:\n",
    "        subs.extend(split(s))\n",
    "    i = i + 1\n",
    "    if i > maxi:\n",
    "        print(\"Limit \", maxi, \" iteration exceeded\\n\")\n",
    "        break\n",
    "    \n"
   ]
  },
  {
   "cell_type": "code",
   "execution_count": 25,
   "metadata": {},
   "outputs": [
    {
     "name": "stdout",
     "output_type": "stream",
     "text": [
      "29 0.890625 -0.07595393268760398\n"
     ]
    }
   ],
   "source": [
    "print(i, xr, fr)"
   ]
  },
  {
   "cell_type": "code",
   "execution_count": 26,
   "metadata": {},
   "outputs": [],
   "source": [
    "def vizual(flist, a, b):\n",
    "    colors = ['r-', 'b-', 'g-']\n",
    "    step = (b-a)/100.\n",
    "    ta = np.arange(a, b + step, step)\n",
    "    ln = len(ta)\n",
    "    fta = np.arange(ln).astype(float)\n",
    "    j = 0\n",
    "    for f in flist:\n",
    "        for i in range(ln):\n",
    "            fta[i] = f(ta[i])\n",
    "        plt.plot(ta, fta, colors[j])\n",
    "        j = j + 1\n",
    "    plt.show()"
   ]
  },
  {
   "cell_type": "code",
   "execution_count": 27,
   "metadata": {},
   "outputs": [
    {
     "data": {
      "image/png": "[encoded data removed]",
      "text/plain": [
       "<Figure size 432x288 with 1 Axes>"
      ]
     },
     "metadata": {
      "needs_background": "light"
     },
     "output_type": "display_data"
    }
   ],
   "source": [
    "vizual([f], problem['ab'][0], problem['ab'][1])"
   ]
  },
  {
   "cell_type": "code",
   "execution_count": null,
   "metadata": {},
   "outputs": [],
   "source": []
  }
 ],
 "metadata": {
  "kernelspec": {
   "display_name": "Python 3",
   "language": "python",
   "name": "python3"
  },
  "language_info": {
   "codemirror_mode": {
    "name": "ipython",
    "version": 3
   },
   "file_extension": ".py",
   "mimetype": "text/x-python",
   "name": "python",
   "nbconvert_exporter": "python",
   "pygments_lexer": "ipython3",
   "version": "3.6.9"
  }
 },
 "nbformat": 4,
 "nbformat_minor": 4
}
