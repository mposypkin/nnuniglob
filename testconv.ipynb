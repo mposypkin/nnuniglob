{
 "cells": [
  {
   "cell_type": "code",
   "execution_count": 1,
   "metadata": {},
   "outputs": [],
   "source": [
    "from sympy import *\n",
    "import interval as ival\n",
    "import intconv as iconv\n",
    "import matplotlib.pyplot as plt\n",
    "import numpy as np\n",
    "import math"
   ]
  },
  {
   "cell_type": "code",
   "execution_count": 2,
   "metadata": {},
   "outputs": [],
   "source": [
    "x = symbols('x')"
   ]
  },
  {
   "cell_type": "code",
   "execution_count": 69,
   "metadata": {},
   "outputs": [
    {
     "name": "stdout",
     "output_type": "stream",
     "text": [
      "x**2/20 - sin(x - 1.5707963267949) + 2\n"
     ]
    }
   ],
   "source": [
    "### ef = 16 * x**2 - 24 * x + 5\n",
    "ef =   2 * x**2\n",
    "# ef = x**4 - 10 * x**3 + 35 * x**2 - 50 * x + 24\n",
    "# ef = x**6 + 15 * x**4 + 27 * x**2 + 250\n",
    "# ef =  x**2\n",
    "# ef = (x-3)**2 + (x+3)**2\n",
    "# ef = (x-3)**2 \n",
    "# ef = log(3*x)*log(2*x) - 0.1\n",
    "# ef = exp(x**2)\n",
    "# ef = x**2\n",
    "# ef = sin(x)\n",
    "# ef = (sin(x))**3\n",
    "# ef = exp(-3*x)\n",
    "# ef = exp(-3*x) + (sin(x))**3\n",
    "# ef = sin(5 * x)\n",
    "# ef = x + sin(5 * x)\n",
    "# ef = exp(-x) - sin(2 * float(pi) * x)\n",
    "# ef = (x + sin(x))*exp(-x**2)\n",
    "# ef = x + sin(x)\n",
    "ef = x**2 / 20 - sin(x - float(pi)/2) + 2\n",
    "print(ef)\n",
    "a = -20\n",
    "b = 20"
   ]
  },
  {
   "cell_type": "code",
   "execution_count": 70,
   "metadata": {},
   "outputs": [],
   "source": [
    "iconv_dict = {\"cos\" : iconv.cos, \"sin\" : iconv.sin, \"exp\" : iconv.exp, \"log\" : iconv.log}"
   ]
  },
  {
   "cell_type": "code",
   "execution_count": 71,
   "metadata": {},
   "outputs": [],
   "source": [
    "f = lambdify(x,ef)\n",
    "fi = lambdify(x,ef,iconv_dict)"
   ]
  },
  {
   "cell_type": "code",
   "execution_count": 72,
   "metadata": {},
   "outputs": [
    {
     "name": "stdout",
     "output_type": "stream",
     "text": [
      "x = [-20, 20], a = -20, b = 20, fa = -20, fb = 20, da = 1, db = 1, lin, inc, conv, conc\n",
      "1 1000 1 1 0 0\n",
      "minmax=  0 1\n",
      "lpi,rpi: -7 6\n",
      "x = [1.0, 23.0], a = -20, b = 20, fa = 22.408082061813392, fb = 22.408082061813392, da = -1.0870547492723717, db = 1.087054749272373\n"
     ]
    }
   ],
   "source": [
    "ab = iconv.IntConv([a,b])\n",
    "print(ab)\n",
    "print(fi(ab))"
   ]
  },
  {
   "cell_type": "code",
   "execution_count": 73,
   "metadata": {},
   "outputs": [],
   "source": [
    "def vizual(flist, a, b):\n",
    "    colors = ['r-', 'b-', 'g-']\n",
    "    step = (b-a)/100.\n",
    "    ta = np.arange(a, b + step, step)\n",
    "    ln = len(ta)\n",
    "    fta = np.arange(ln).astype(float)\n",
    "    j = 0\n",
    "    for f in flist:\n",
    "        for i in range(ln):\n",
    "            fta[i] = f(ta[i])\n",
    "        plt.plot(ta, fta, colors[j])\n",
    "        j = j + 1\n",
    "    plt.show()"
   ]
  },
  {
   "cell_type": "code",
   "execution_count": 74,
   "metadata": {},
   "outputs": [
    {
     "data": {
      "image/png": "[encoded data removed]",
      "text/plain": [
       "<Figure size 432x288 with 1 Axes>"
      ]
     },
     "metadata": {
      "needs_background": "light"
     },
     "output_type": "display_data"
    }
   ],
   "source": [
    "vizual([f], a, b)"
   ]
  },
  {
   "cell_type": "code",
   "execution_count": null,
   "metadata": {},
   "outputs": [],
   "source": []
  },
  {
   "cell_type": "code",
   "execution_count": null,
   "metadata": {},
   "outputs": [],
   "source": []
  },
  {
   "cell_type": "code",
   "execution_count": null,
   "metadata": {},
   "outputs": [],
   "source": []
  },
  {
   "cell_type": "code",
   "execution_count": null,
   "metadata": {},
   "outputs": [],
   "source": []
  },
  {
   "cell_type": "code",
   "execution_count": null,
   "metadata": {},
   "outputs": [],
   "source": []
  }
 ],
 "metadata": {
  "kernelspec": {
   "display_name": "Python 3",
   "language": "python",
   "name": "python3"
  },
  "language_info": {
   "codemirror_mode": {
    "name": "ipython",
    "version": 3
   },
   "file_extension": ".py",
   "mimetype": "text/x-python",
   "name": "python",
   "nbconvert_exporter": "python",
   "pygments_lexer": "ipython3",
   "version": "3.6.9"
  }
 },
 "nbformat": 4,
 "nbformat_minor": 1
}
