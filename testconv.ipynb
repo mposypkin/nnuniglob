{
 "cells": [
  {
   "cell_type": "code",
   "execution_count": 1,
   "metadata": {},
   "outputs": [],
   "source": [
    "from sympy import *\n",
    "import interval as ival\n",
    "import intconv as iconv\n",
    "import matplotlib.pyplot as plt\n",
    "import numpy as np\n",
    "import math"
   ]
  },
  {
   "cell_type": "code",
   "execution_count": 9,
   "metadata": {},
   "outputs": [],
   "source": [
    "x = symbols('x')"
   ]
  },
  {
   "cell_type": "code",
   "execution_count": 25,
   "metadata": {},
   "outputs": [
    {
     "name": "stdout",
     "output_type": "stream",
     "text": [
      "log(2*x)*log(3*x) - 0.1\n"
     ]
    }
   ],
   "source": [
    "# ef = 16 * x**2 - 24 * x + 5\n",
    "ef =   2 * x**2\n",
    "# ef = x**4 - 10 * x**3 + 35 * x**2 - 50 * x + 24\n",
    "# ef = x**6 + 15 * x**4 + 27 * x**2 + 250\n",
    "# ef =  x**2\n",
    "# ef = (x-3)**2 + (x+3)**2\n",
    "# ef = (x-3)**2 \n",
    "ef = log(3*x)*log(2*x) - 0.1\n",
    "print(ef)\n",
    "a = 0.2\n",
    "b = 7"
   ]
  },
  {
   "cell_type": "code",
   "execution_count": 26,
   "metadata": {},
   "outputs": [],
   "source": [
    "ival_dict = {\"cos\" : ival.cos, \"sin\" : ival.sin, \"exp\" : ival.exp, \"log\" : ival.log}"
   ]
  },
  {
   "cell_type": "code",
   "execution_count": 27,
   "metadata": {},
   "outputs": [],
   "source": [
    "f = lambdify(x,ef)\n",
    "fi = lambdify(x,ef,ival_dict)"
   ]
  },
  {
   "cell_type": "code",
   "execution_count": 28,
   "metadata": {},
   "outputs": [
    {
     "data": {
      "text/plain": [
       "[-2.889667692668882, 7.934669254452114]"
      ]
     },
     "execution_count": 28,
     "metadata": {},
     "output_type": "execute_result"
    }
   ],
   "source": [
    "ab = ival.Interval([a,b])\n",
    "fi(ab)"
   ]
  },
  {
   "cell_type": "code",
   "execution_count": 29,
   "metadata": {},
   "outputs": [
    {
     "name": "stdout",
     "output_type": "stream",
     "text": [
      "x = [0.2, 7], a = 0.2, b = 7, fa = 0.2, fb = 7, da = 1, db = 1, lin, inc, conv, conc\n",
      "1 1 0 1 0 0\n",
      "minmax=  0 0\n",
      "1 1 0 1 0 0\n",
      "minmax=  0 0\n",
      "[-2.889667692668882, 7.934669254452114]\n"
     ]
    }
   ],
   "source": [
    "ab = iconv.IntConv([a,b])\n",
    "print(ab)\n",
    "print(fi(ab))"
   ]
  },
  {
   "cell_type": "code",
   "execution_count": 30,
   "metadata": {},
   "outputs": [],
   "source": [
    "def vizual(flist, a, b):\n",
    "    colors = ['r-', 'b-', 'g-']\n",
    "    step = (b-a)/100.\n",
    "    ta = np.arange(a, b + step, step)\n",
    "    ln = len(ta)\n",
    "    fta = np.arange(ln).astype(float)\n",
    "    j = 0\n",
    "    for f in flist:\n",
    "        for i in range(ln):\n",
    "            fta[i] = f(ta[i])\n",
    "        plt.plot(ta, fta, colors[j])\n",
    "        j = j + 1\n",
    "    plt.show()"
   ]
  },
  {
   "cell_type": "code",
   "execution_count": 31,
   "metadata": {},
   "outputs": [
    {
     "data": {
      "image/png": "[encoded data removed]",
      "text/plain": [
       "<Figure size 432x288 with 1 Axes>"
      ]
     },
     "metadata": {
      "needs_background": "light"
     },
     "output_type": "display_data"
    }
   ],
   "source": [
    "vizual([f], a, b)"
   ]
  },
  {
   "cell_type": "code",
   "execution_count": null,
   "metadata": {},
   "outputs": [],
   "source": []
  },
  {
   "cell_type": "code",
   "execution_count": null,
   "metadata": {},
   "outputs": [],
   "source": []
  },
  {
   "cell_type": "code",
   "execution_count": null,
   "metadata": {},
   "outputs": [],
   "source": []
  },
  {
   "cell_type": "code",
   "execution_count": null,
   "metadata": {},
   "outputs": [],
   "source": []
  },
  {
   "cell_type": "code",
   "execution_count": null,
   "metadata": {},
   "outputs": [],
   "source": []
  }
 ],
 "metadata": {
  "kernelspec": {
   "display_name": "Python 3",
   "language": "python",
   "name": "python3"
  },
  "language_info": {
   "codemirror_mode": {
    "name": "ipython",
    "version": 3
   },
   "file_extension": ".py",
   "mimetype": "text/x-python",
   "name": "python",
   "nbconvert_exporter": "python",
   "pygments_lexer": "ipython3",
   "version": "3.6.9"
  }
 },
 "nbformat": 4,
 "nbformat_minor": 1
}
