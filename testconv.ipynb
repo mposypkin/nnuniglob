{
 "cells": [
  {
   "cell_type": "code",
   "execution_count": 1,
   "metadata": {},
   "outputs": [],
   "source": [
    "from sympy import *\n",
    "import interval as ival\n",
    "import intconv as iconv\n",
    "import intervaldrv as ivald\n",
    "import matplotlib.pyplot as plt\n",
    "import numpy as np\n",
    "import math"
   ]
  },
  {
   "cell_type": "code",
   "execution_count": 2,
   "metadata": {},
   "outputs": [],
   "source": [
    "x = symbols('x')"
   ]
  },
  {
   "cell_type": "code",
   "execution_count": 15,
   "metadata": {},
   "outputs": [
    {
     "name": "stdout",
     "output_type": "stream",
     "text": [
      "sin(x)\n"
     ]
    }
   ],
   "source": [
    "### ef = 16 * x**2 - 24 * x + 5\n",
    "# ef =   2 * x**2\n",
    "# ef = x**4 - 10 * x**3 + 35 * x**2 - 50 * x + 24\n",
    "# ef = x**6 - 15 * x**4 + 27 * x**2 + 250\n",
    "# ef =  x**2\n",
    "# ef = (x-3)**2 + (x+3)**2\n",
    "# ef = (x-3)**2 \n",
    "# ef = log(3*x)*log(2*x) - 0.1\n",
    "# ef = exp(x**2)\n",
    "# ef = x**2\n",
    "ef = sin(x)\n",
    "# ef = (sin(x))**3\n",
    "# ef = exp(-3*x)\n",
    "# ef = exp(-3*x) + (sin(x))**3\n",
    "# ef = sin(5 * x)\n",
    "# ef = x + sin(5 * x)\n",
    "# ef = exp(-x) - sin(2 * float(pi) * x)\n",
    "# ef = (x + sin(x))*exp(-x**2)\n",
    "# ef = x + sin(x)\n",
    "# ef = x**2 / 20 - sin(x - float(pi)/2) + 2\n",
    "# ef = abs(0.25 *(x-1))  + abs(sin(float(pi)*(1 + 0.25 * (x-1)))) + 1\n",
    "# ef = abs(x-1)  * (1 + 10 * abs(sin(x+1))) + 1\n",
    "# ef = abs(x-1)  * (1 + 10 * abs(sin(x+1)))\n",
    "# ef = abs(sin(x+1))\n",
    "# ef = sin(x+1)\n",
    "# ef = diff(exp(x) * (10 - x))\n",
    "# ef = x**2 + 2 * x + 1\n",
    "# ef = (x - x**2)**2 + (x - 1)**2\n",
    "# ef = x**4 - 2 * x**2 + 1\n",
    "print(ef)\n",
    "a = -1\n",
    "b = 1"
   ]
  },
  {
   "cell_type": "code",
   "execution_count": 16,
   "metadata": {},
   "outputs": [],
   "source": [
    "ivald_dict = {\"cos\" : ivald.cos, \"sin\" : ivald.sin, \"exp\" : ivald.exp, \"log\" : ivald.log}\n",
    "f = lambdify(x,ef)\n",
    "fi = lambdify(x,ef,ivald_dict)\n",
    "ab = ivald.IntervalDrv([a,b])"
   ]
  },
  {
   "cell_type": "code",
   "execution_count": 17,
   "metadata": {},
   "outputs": [],
   "source": [
    "# iconv_dict = {\"cos\" : iconv.cos, \"sin\" : iconv.sin, \"exp\" : iconv.exp, \"log\" : iconv.log}\n",
    "# f = lambdify(x,ef)\n",
    "# fi = lambdify(x,ef,iconv_dict)\n",
    "# ab = iconv.IntConv([a,b])"
   ]
  },
  {
   "cell_type": "code",
   "execution_count": 18,
   "metadata": {},
   "outputs": [
    {
     "name": "stdout",
     "output_type": "stream",
     "text": [
      "x =[-1, 1], dx = [1, 1], ddx = [0, 0], a = -1, b = 1, fa = -1, fb = 1, da = 1, db = 1, monotonic, convex, concave, \n",
      "x =[-0.8414709848078965, 0.8414709848078965], dx = [0.5403023058681398, 1], ddx = [-0.8414709848078965, 0.8414709848078965], a = -1, b = 1, fa = -0.8414709848078965, fb = 0.8414709848078965, da = 0.5403023058681398, db = 0.5403023058681398, monotonic, \n"
     ]
    }
   ],
   "source": [
    "print(ab)\n",
    "# print(abs(ab))\n",
    "print(fi(ab))\n"
   ]
  },
  {
   "cell_type": "code",
   "execution_count": 19,
   "metadata": {},
   "outputs": [],
   "source": [
    "def vizual(flist, a, b):\n",
    "    colors = ['r-', 'b-', 'g-']\n",
    "    step = (b-a)/100.\n",
    "    ta = np.arange(a, b + step, step)\n",
    "    ln = len(ta)\n",
    "    fta = np.arange(ln).astype(float)\n",
    "    j = 0\n",
    "    for f in flist:\n",
    "        for i in range(ln):\n",
    "            fta[i] = f(ta[i])\n",
    "        plt.plot(ta, fta, colors[j])\n",
    "        j = j + 1\n",
    "    plt.show()"
   ]
  },
  {
   "cell_type": "code",
   "execution_count": 20,
   "metadata": {},
   "outputs": [
    {
     "data": {
      "image/png": "[encoded data removed]",
      "text/plain": [
       "<Figure size 432x288 with 1 Axes>"
      ]
     },
     "metadata": {
      "needs_background": "light"
     },
     "output_type": "display_data"
    }
   ],
   "source": [
    "vizual([f], a, b)"
   ]
  },
  {
   "cell_type": "code",
   "execution_count": null,
   "metadata": {},
   "outputs": [],
   "source": []
  },
  {
   "cell_type": "code",
   "execution_count": null,
   "metadata": {},
   "outputs": [],
   "source": []
  },
  {
   "cell_type": "code",
   "execution_count": null,
   "metadata": {},
   "outputs": [],
   "source": []
  },
  {
   "cell_type": "code",
   "execution_count": null,
   "metadata": {},
   "outputs": [],
   "source": []
  },
  {
   "cell_type": "code",
   "execution_count": null,
   "metadata": {},
   "outputs": [],
   "source": []
  }
 ],
 "metadata": {
  "kernelspec": {
   "display_name": "Python 3",
   "language": "python",
   "name": "python3"
  },
  "language_info": {
   "codemirror_mode": {
    "name": "ipython",
    "version": 3
   },
   "file_extension": ".py",
   "mimetype": "text/x-python",
   "name": "python",
   "nbconvert_exporter": "python",
   "pygments_lexer": "ipython3",
   "version": "3.6.9"
  }
 },
 "nbformat": 4,
 "nbformat_minor": 1
}
