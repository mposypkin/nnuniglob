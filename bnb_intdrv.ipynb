{
 "cells": [
  {
   "cell_type": "markdown",
   "metadata": {},
   "source": [
    "Bnb interval method with convexity"
   ]
  },
  {
   "cell_type": "code",
   "execution_count": 1,
   "metadata": {},
   "outputs": [],
   "source": [
    "from sympy import *\n",
    "import interval as ival\n",
    "import intervaldrv as ivald\n",
    "import matplotlib.pyplot as plt\n",
    "import numpy as np\n",
    "import math\n",
    "from problems import *\n",
    "import bnbcore as bc\n",
    "import intcore as ic"
   ]
  },
  {
   "cell_type": "code",
   "execution_count": 2,
   "metadata": {},
   "outputs": [],
   "source": [
    "ivald_dict = {\"cos\" : ivald.cos, \"sin\" : ivald.sin, \"exp\" : ivald.exp, \"log\" : ivald.log}"
   ]
  },
  {
   "cell_type": "code",
   "execution_count": 3,
   "metadata": {},
   "outputs": [],
   "source": [
    "solve_options = {'use_1st_form' : True}"
   ]
  },
  {
   "cell_type": "code",
   "execution_count": 4,
   "metadata": {},
   "outputs": [],
   "source": [
    "def split_iconv(s):\n",
    "    a = s.x[0]\n",
    "    b = s.x[1]\n",
    "    c = s.mid()\n",
    "    sl = ivald.IntervalDrv([a, c])\n",
    "    sr = ivald.IntervalDrv([c, b])\n",
    "    return [sl, sr]"
   ]
  },
  {
   "cell_type": "code",
   "execution_count": 5,
   "metadata": {},
   "outputs": [],
   "source": [
    "def solve(problems,key):\n",
    "    problem = problems[key]\n",
    "    main_int = ivald.IntervalDrv(problem['ab'])\n",
    "    f = lambdify(x, problem['f'])\n",
    "    fi = lambdify(x, problem['f'], ivald_dict)\n",
    "    def fic(x): \n",
    "        rvfi = fi(x)\n",
    "        c = ic.mid(x)\n",
    "        fc = f(c)\n",
    "        xn = ic.first_form(x, rvfi.dx, [c, c], [fc, fc])\n",
    "        xnn = ic.cap(rvfi.x, xn)\n",
    "        return xnn\n",
    "    if solve_options['use_1st_form']:\n",
    "        rv = bc.bnb(problem, [main_int], 1e5, f, fic, split_iconv)\n",
    "    else:\n",
    "        rv = bc.bnb(problem, [main_int], 1e5, f, fi, split_iconv)\n",
    "    return rv"
   ]
  },
  {
   "cell_type": "code",
   "execution_count": 6,
   "metadata": {},
   "outputs": [],
   "source": [
    "def vizual(flist, a, b):\n",
    "    colors = ['r-', 'b-', 'g-']\n",
    "    step = (b-a)/100.\n",
    "    ta = np.arange(a, b + step, step)\n",
    "    ln = len(ta)\n",
    "    fta = np.arange(ln).astype(float)\n",
    "    j = 0\n",
    "    for f in flist:\n",
    "        for i in range(ln):\n",
    "            fta[i] = f(ta[i])\n",
    "        plt.plot(ta, fta, colors[j])\n",
    "        j = j + 1\n",
    "    plt.show()"
   ]
  },
  {
   "cell_type": "code",
   "execution_count": 9,
   "metadata": {},
   "outputs": [],
   "source": [
    "def run_tests(tests, domon, doconv, taylor):\n",
    "    ivald.options['domon'] = domon\n",
    "    ivald.options['doconv'] = doconv\n",
    "    solve_options['use_1st_form'] = taylor\n",
    "    steps = []\n",
    "    for k in tests.keys():\n",
    "        s = solve(tests, k)\n",
    "        steps += [s['steps']]\n",
    "    return steps"
   ]
  },
  {
   "cell_type": "code",
   "execution_count": 12,
   "metadata": {},
   "outputs": [
    {
     "name": "stdout",
     "output_type": "stream",
     "text": [
      "[[35, 72953, 63, 159, 183, 11, 273, 65, 189, 857, 51], [15, 255, 21, 17, 39, 11, 31, 25, 49, 31, 19], [29, 311, 37, 31, 69, 11, 49, 37, 91, 75, 27], [15, 101, 21, 17, 39, 11, 31, 25, 49, 31, 19]]\n"
     ]
    }
   ],
   "source": [
    "steps = []\n",
    "steps += [run_tests(diff_problems, False, False, False)]\n",
    "steps += [run_tests(diff_problems, True, True, False)]\n",
    "steps += [run_tests(diff_problems, False, False, True)]\n",
    "steps += [run_tests(diff_problems, True, True, True)]\n",
    "print(steps)"
   ]
  },
  {
   "cell_type": "code",
   "execution_count": null,
   "metadata": {},
   "outputs": [],
   "source": []
  }
 ],
 "metadata": {
  "kernelspec": {
   "display_name": "Python 3",
   "language": "python",
   "name": "python3"
  },
  "language_info": {
   "codemirror_mode": {
    "name": "ipython",
    "version": 3
   },
   "file_extension": ".py",
   "mimetype": "text/x-python",
   "name": "python",
   "nbconvert_exporter": "python",
   "pygments_lexer": "ipython3",
   "version": "3.6.9"
  }
 },
 "nbformat": 4,
 "nbformat_minor": 4
}
